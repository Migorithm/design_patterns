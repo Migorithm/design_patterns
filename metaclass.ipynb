{
 "cells": [
  {
   "attachments": {},
   "cell_type": "markdown",
   "metadata": {},
   "source": [
    "# Metaclasses\n",
    "I know, this is not a design pattern.<br>\n",
    "But I think metaclass is usable only with due regard to how it affects<br>\n",
    "other components within the systems just like design patterns.<br>\n",
    "\n",
    "## Normal class"
   ]
  },
  {
   "cell_type": "code",
   "execution_count": 5,
   "metadata": {},
   "outputs": [
    {
     "name": "stdout",
     "output_type": "stream",
     "text": [
      "Is this really called?\n"
     ]
    }
   ],
   "source": [
    "from typing import Any\n",
    "\n",
    "\n",
    "class Foo(type):\n",
    "    \n",
    "    def __call__(cls, *args: Any, **kwds: Any) -> Any:\n",
    "        \n",
    "        print(\"Is this really called?\")\n",
    "        cls = super().__call__(*args,**kwds)\n",
    "        return cls\n",
    "\n",
    "class Bar(metaclass=Foo):\n",
    "    pass\n",
    "\n",
    "f = Bar()\n"
   ]
  },
  {
   "attachments": {},
   "cell_type": "markdown",
   "metadata": {},
   "source": [
    "As you can see, type's call dunder method invokes new() and init() dunder methods.<br>\n",
    "\n",
    "### What is metaclass for?\n",
    "It is essentially to customize instantiation of a class(not an object)"
   ]
  },
  {
   "cell_type": "code",
   "execution_count": 10,
   "metadata": {},
   "outputs": [
    {
     "name": "stdout",
     "output_type": "stream",
     "text": [
      "{}\n",
      "{}\n",
      "True\n"
     ]
    }
   ],
   "source": [
    "class Meta(type):\n",
    "    def __new__(cls,name,bases,namespace):\n",
    "        x = super().__new__(cls,name,bases,namespace)\n",
    "        x.db = {}\n",
    "        return x\n",
    "    \n",
    "class Foo(metaclass=Meta):\n",
    "    pass\n",
    "\n",
    "a = Foo()\n",
    "\n",
    "b= Foo()\n",
    "print(a.db)\n",
    "print(b.db)\n",
    "print(id(a.db) == id(b.db))\n",
    "        "
   ]
  },
  {
   "attachments": {},
   "cell_type": "markdown",
   "metadata": {},
   "source": [
    "### Example #1  - Preventing Multiple Inheritance"
   ]
  },
  {
   "cell_type": "code",
   "execution_count": 12,
   "metadata": {},
   "outputs": [
    {
     "name": "stdout",
     "output_type": "stream",
     "text": [
      "Not allowed action caught!\n"
     ]
    }
   ],
   "source": [
    "class NoMultipleInheritanceBase(type):\n",
    "    def __new__(cls,clsname,bases,clsdict):\n",
    "        if len(bases)> 1:\n",
    "            raise TypeError(\"Multiple Inheritance Detected!\")\n",
    "        return super().__new__(cls,clsname,bases,clsdict)\n",
    "    \n",
    "\n",
    "class Base(metaclass=NoMultipleInheritanceBase):\n",
    "    pass\n",
    "\n",
    "class A(Base):\n",
    "    pass\n",
    "\n",
    "class B(Base):\n",
    "    pass\n",
    "\n",
    "try:\n",
    "    class C(A,B):\n",
    "        pass\n",
    "except TypeError:\n",
    "    print(\"Not allowed action caught!\")\n"
   ]
  },
  {
   "attachments": {},
   "cell_type": "markdown",
   "metadata": {},
   "source": [
    "### Example #2 - Decorators vs Metaclasses\n",
    "\n",
    "Consider a very simple problem of code repetition.<br>\n",
    "We want to debug class methods, what we want is whenever<br>\n",
    "the method in the class is executed, it should print its fully qualified name.<br>"
   ]
  },
  {
   "cell_type": "code",
   "execution_count": 16,
   "metadata": {},
   "outputs": [
    {
     "name": "stdout",
     "output_type": "stream",
     "text": [
      "Fully qualified name of method: Foo.bar\n",
      "Bar!\n",
      "Fully qualified name of method: Foo.foo_bar\n",
      "Foobar!\n"
     ]
    }
   ],
   "source": [
    "#Decorator version\n",
    "\n",
    "from functools import wraps\n",
    "from typing import Callable\n",
    "\n",
    "def debug(func:Callable):\n",
    "    @wraps(func)\n",
    "    def wrapper(*args,**kwargs):\n",
    "        print(\"Fully qualified name of method:\",func.__qualname__)\n",
    "        return func(*args,**kwargs)\n",
    "    return wrapper\n",
    "\n",
    "#class decorator\n",
    "def debugmethods(cls):\n",
    "    for key,val in vars(cls).items():\n",
    "        if callable(val):\n",
    "            #decorate \n",
    "            setattr(cls,key,debug(val))\n",
    "    return cls\n",
    "\n",
    "@debugmethods\n",
    "class Foo:\n",
    "    def bar(self):\n",
    "        print(\"Bar!\")\n",
    "\n",
    "    def foo_bar(self):\n",
    "        print(\"Foobar!\")\n",
    "    \n",
    "\n",
    "foo = Foo()\n",
    "foo.bar()\n",
    "foo.foo_bar()"
   ]
  },
  {
   "attachments": {},
   "cell_type": "markdown",
   "metadata": {},
   "source": [
    "#### That works but...\n",
    "- What if we want to apply this method to all subclasses which inherit this Foo class?\n",
    "\n",
    "The problem is if we have many such subclasses, then in that case we don't like adding<br><br>\n",
    "\n",
    "a decorator to each one separately.<br><br>\n",
    "\n",
    "Let's Have a look at metaclass version\n"
   ]
  },
  {
   "cell_type": "code",
   "execution_count": 17,
   "metadata": {},
   "outputs": [
    {
     "name": "stdout",
     "output_type": "stream",
     "text": [
      "Full name of this method: Bar.foo\n",
      "foo!\n"
     ]
    }
   ],
   "source": [
    "from functools import wraps\n",
    "\n",
    "def debug(func):\n",
    "    @wraps(func)\n",
    "    def wrapper(*args,**kwargs):\n",
    "        print(\"Full name of this method:\",func.__qualname__)\n",
    "        return func(*args,**kwargs)\n",
    "    return wrapper\n",
    "\n",
    "def debugmethods(cls):\n",
    "    for key,val in vars(cls).items():\n",
    "        if callable(val):\n",
    "            setattr(cls,key,debug(val))\n",
    "    return cls\n",
    "\n",
    "class DebugMeta(type):\n",
    "    def __new__(cls,clsname,bases,clsdict):\n",
    "        cls = super().__new__(cls,clsname,bases,clsdict)\n",
    "        cls = debugmethods(cls)\n",
    "        return cls\n",
    "\n",
    "class Base(metaclass = DebugMeta):pass\n",
    "\n",
    "class Foo(Base):\n",
    "    def bar(self):\n",
    "        print(\"bar!\")\n",
    "\n",
    "class Bar(Foo):\n",
    "    def foo(self):\n",
    "        print(\"foo!\")\n",
    "\n",
    "b= Bar()\n",
    "b.foo()"
   ]
  },
  {
   "cell_type": "code",
   "execution_count": null,
   "metadata": {},
   "outputs": [],
   "source": []
  }
 ],
 "metadata": {
  "kernelspec": {
   "display_name": "Python 3",
   "language": "python",
   "name": "python3"
  },
  "language_info": {
   "codemirror_mode": {
    "name": "ipython",
    "version": 3
   },
   "file_extension": ".py",
   "mimetype": "text/x-python",
   "name": "python",
   "nbconvert_exporter": "python",
   "pygments_lexer": "ipython3",
   "version": "3.10.9"
  },
  "orig_nbformat": 4,
  "vscode": {
   "interpreter": {
    "hash": "aee8b7b246df8f9039afb4144a1f6fd8d2ca17a180786b69acc140d282b71a49"
   }
  }
 },
 "nbformat": 4,
 "nbformat_minor": 2
}
